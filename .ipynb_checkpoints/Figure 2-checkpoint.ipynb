{
 "cells": [
  {
   "cell_type": "code",
   "execution_count": 1,
   "metadata": {
    "collapsed": true
   },
   "outputs": [],
   "source": [
    "import numpy as np\n",
    "import matplotlib as mpl\n",
    "import matplotlib.pyplot as plt\n",
    "%matplotlib inline\n",
    "import scipy as sp\n",
    "import csv\n",
    "import matplotlib.patches as mpatches\n",
    "import pylab as pb\n",
    "import matplotlib.ticker as mtick\n",
    "from matplotlib import cm\n",
    "from numpy import linspace\n",
    "from csv import reader\n",
    "from matplotlib import pyplot\n",
    "import matplotlib.colors as colors\n",
    "import bokeh as bk\n",
    "import seaborn as sns\n",
    "import pandas as pd"
   ]
  },
  {
   "cell_type": "code",
   "execution_count": 2,
   "metadata": {},
   "outputs": [
    {
     "data": {
      "text/html": [
       "<div>\n",
       "<table border=\"1\" class=\"dataframe\">\n",
       "  <thead>\n",
       "    <tr style=\"text-align: right;\">\n",
       "      <th></th>\n",
       "      <th>1/T (1/K)</th>\n",
       "      <th>1.5e12 per cm2</th>\n",
       "      <th>1.1e12 per cm2</th>\n",
       "      <th>7.3e11 per cm2</th>\n",
       "      <th>5.8e11 per cm2</th>\n",
       "      <th>2.9e11 per cm2</th>\n",
       "      <th>1.5e11 per cm2</th>\n",
       "    </tr>\n",
       "  </thead>\n",
       "  <tbody>\n",
       "    <tr>\n",
       "      <th>0</th>\n",
       "      <td>0.012026</td>\n",
       "      <td>0.000002</td>\n",
       "      <td>0.000002</td>\n",
       "      <td>0.000003</td>\n",
       "      <td>0.000004</td>\n",
       "      <td>0.000005</td>\n",
       "      <td>0.000006</td>\n",
       "    </tr>\n",
       "    <tr>\n",
       "      <th>1</th>\n",
       "      <td>0.010735</td>\n",
       "      <td>0.000002</td>\n",
       "      <td>0.000003</td>\n",
       "      <td>0.000003</td>\n",
       "      <td>0.000004</td>\n",
       "      <td>0.000005</td>\n",
       "      <td>0.000006</td>\n",
       "    </tr>\n",
       "    <tr>\n",
       "      <th>2</th>\n",
       "      <td>0.009695</td>\n",
       "      <td>0.000002</td>\n",
       "      <td>0.000003</td>\n",
       "      <td>0.000004</td>\n",
       "      <td>0.000004</td>\n",
       "      <td>0.000005</td>\n",
       "      <td>0.000007</td>\n",
       "    </tr>\n",
       "    <tr>\n",
       "      <th>3</th>\n",
       "      <td>0.008838</td>\n",
       "      <td>0.000002</td>\n",
       "      <td>0.000003</td>\n",
       "      <td>0.000004</td>\n",
       "      <td>0.000004</td>\n",
       "      <td>0.000005</td>\n",
       "      <td>0.000007</td>\n",
       "    </tr>\n",
       "    <tr>\n",
       "      <th>4</th>\n",
       "      <td>0.008120</td>\n",
       "      <td>0.000002</td>\n",
       "      <td>0.000002</td>\n",
       "      <td>0.000003</td>\n",
       "      <td>0.000003</td>\n",
       "      <td>0.000005</td>\n",
       "      <td>0.000006</td>\n",
       "    </tr>\n",
       "    <tr>\n",
       "      <th>5</th>\n",
       "      <td>0.007510</td>\n",
       "      <td>0.000002</td>\n",
       "      <td>0.000003</td>\n",
       "      <td>0.000003</td>\n",
       "      <td>0.000004</td>\n",
       "      <td>0.000005</td>\n",
       "      <td>0.000006</td>\n",
       "    </tr>\n",
       "    <tr>\n",
       "      <th>6</th>\n",
       "      <td>0.006986</td>\n",
       "      <td>0.000002</td>\n",
       "      <td>0.000002</td>\n",
       "      <td>0.000003</td>\n",
       "      <td>0.000004</td>\n",
       "      <td>0.000005</td>\n",
       "      <td>0.000006</td>\n",
       "    </tr>\n",
       "    <tr>\n",
       "      <th>7</th>\n",
       "      <td>0.006530</td>\n",
       "      <td>0.000002</td>\n",
       "      <td>0.000003</td>\n",
       "      <td>0.000003</td>\n",
       "      <td>0.000004</td>\n",
       "      <td>0.000005</td>\n",
       "      <td>0.000006</td>\n",
       "    </tr>\n",
       "    <tr>\n",
       "      <th>8</th>\n",
       "      <td>0.006129</td>\n",
       "      <td>0.000002</td>\n",
       "      <td>0.000003</td>\n",
       "      <td>0.000003</td>\n",
       "      <td>0.000004</td>\n",
       "      <td>0.000005</td>\n",
       "      <td>0.000006</td>\n",
       "    </tr>\n",
       "    <tr>\n",
       "      <th>9</th>\n",
       "      <td>0.005775</td>\n",
       "      <td>0.000002</td>\n",
       "      <td>0.000003</td>\n",
       "      <td>0.000003</td>\n",
       "      <td>0.000004</td>\n",
       "      <td>0.000005</td>\n",
       "      <td>0.000006</td>\n",
       "    </tr>\n",
       "    <tr>\n",
       "      <th>10</th>\n",
       "      <td>0.005177</td>\n",
       "      <td>0.000002</td>\n",
       "      <td>0.000003</td>\n",
       "      <td>0.000003</td>\n",
       "      <td>0.000004</td>\n",
       "      <td>0.000005</td>\n",
       "      <td>0.000006</td>\n",
       "    </tr>\n",
       "    <tr>\n",
       "      <th>11</th>\n",
       "      <td>0.004692</td>\n",
       "      <td>0.000002</td>\n",
       "      <td>0.000003</td>\n",
       "      <td>0.000003</td>\n",
       "      <td>0.000004</td>\n",
       "      <td>0.000005</td>\n",
       "      <td>0.000006</td>\n",
       "    </tr>\n",
       "    <tr>\n",
       "      <th>12</th>\n",
       "      <td>0.004289</td>\n",
       "      <td>0.000003</td>\n",
       "      <td>0.000003</td>\n",
       "      <td>0.000004</td>\n",
       "      <td>0.000004</td>\n",
       "      <td>0.000005</td>\n",
       "      <td>0.000006</td>\n",
       "    </tr>\n",
       "    <tr>\n",
       "      <th>13</th>\n",
       "      <td>0.003950</td>\n",
       "      <td>0.000003</td>\n",
       "      <td>0.000003</td>\n",
       "      <td>0.000004</td>\n",
       "      <td>0.000004</td>\n",
       "      <td>0.000005</td>\n",
       "      <td>0.000006</td>\n",
       "    </tr>\n",
       "    <tr>\n",
       "      <th>14</th>\n",
       "      <td>0.003661</td>\n",
       "      <td>0.000003</td>\n",
       "      <td>0.000003</td>\n",
       "      <td>0.000004</td>\n",
       "      <td>0.000004</td>\n",
       "      <td>0.000005</td>\n",
       "      <td>0.000006</td>\n",
       "    </tr>\n",
       "  </tbody>\n",
       "</table>\n",
       "</div>"
      ],
      "text/plain": [
       "    1/T (1/K)  1.5e12 per cm2  1.1e12 per cm2  7.3e11 per cm2  5.8e11 per cm2  \\\n",
       "0    0.012026        0.000002        0.000002        0.000003        0.000004   \n",
       "1    0.010735        0.000002        0.000003        0.000003        0.000004   \n",
       "2    0.009695        0.000002        0.000003        0.000004        0.000004   \n",
       "3    0.008838        0.000002        0.000003        0.000004        0.000004   \n",
       "4    0.008120        0.000002        0.000002        0.000003        0.000003   \n",
       "5    0.007510        0.000002        0.000003        0.000003        0.000004   \n",
       "6    0.006986        0.000002        0.000002        0.000003        0.000004   \n",
       "7    0.006530        0.000002        0.000003        0.000003        0.000004   \n",
       "8    0.006129        0.000002        0.000003        0.000003        0.000004   \n",
       "9    0.005775        0.000002        0.000003        0.000003        0.000004   \n",
       "10   0.005177        0.000002        0.000003        0.000003        0.000004   \n",
       "11   0.004692        0.000002        0.000003        0.000003        0.000004   \n",
       "12   0.004289        0.000003        0.000003        0.000004        0.000004   \n",
       "13   0.003950        0.000003        0.000003        0.000004        0.000004   \n",
       "14   0.003661        0.000003        0.000003        0.000004        0.000004   \n",
       "\n",
       "    2.9e11 per cm2  1.5e11 per cm2  \n",
       "0         0.000005        0.000006  \n",
       "1         0.000005        0.000006  \n",
       "2         0.000005        0.000007  \n",
       "3         0.000005        0.000007  \n",
       "4         0.000005        0.000006  \n",
       "5         0.000005        0.000006  \n",
       "6         0.000005        0.000006  \n",
       "7         0.000005        0.000006  \n",
       "8         0.000005        0.000006  \n",
       "9         0.000005        0.000006  \n",
       "10        0.000005        0.000006  \n",
       "11        0.000005        0.000006  \n",
       "12        0.000005        0.000006  \n",
       "13        0.000005        0.000006  \n",
       "14        0.000005        0.000006  "
      ]
     },
     "execution_count": 2,
     "metadata": {},
     "output_type": "execute_result"
    }
   ],
   "source": [
    "G_time_0s = pd.read_csv('G_time_0s.csv')\n",
    "G_time_0s"
   ]
  },
  {
   "cell_type": "code",
   "execution_count": 3,
   "metadata": {
    "collapsed": true
   },
   "outputs": [],
   "source": [
    "x_0s = []\n",
    "y_0s_15e11 = []\n",
    "y_0s_29e11 = []\n",
    "y_0s_58e11 = []\n",
    "y_0s_73e11 = []\n",
    "y_0s_11e12 = []\n",
    "y_0s_15e12 = []\n",
    "with open('G_time_0s.txt','r') as csvfile:\n",
    "    plots = csv.reader(csvfile, delimiter='\\t')\n",
    "    for row in plots:\n",
    "        x_0s.append(float(row[0]))\n",
    "        y_0s_15e11.append(float(row[1]))\n",
    "        y_0s_29e11.append(float(row[2]))\n",
    "        y_0s_58e11.append(float(row[3]))\n",
    "        y_0s_73e11.append(float(row[4]))\n",
    "        y_0s_11e12.append(float(row[5]))\n",
    "        y_0s_15e12.append(float(row[6]))"
   ]
  },
  {
   "cell_type": "code",
   "execution_count": 4,
   "metadata": {
    "collapsed": true
   },
   "outputs": [],
   "source": [
    "x_6s = []\n",
    "y_6s_15e11 = []\n",
    "y_6s_29e11 = []\n",
    "y_6s_58e11 = []\n",
    "y_6s_73e11 = []\n",
    "y_6s_11e12 = []\n",
    "y_6s_15e12 = []\n",
    "with open('G_time_6s.txt','r') as csvfile:\n",
    "    plots = csv.reader(csvfile, delimiter='\\t')\n",
    "    for row in plots:\n",
    "        x_6s.append(float(row[0]))\n",
    "        y_6s_15e11.append(float(row[1]))\n",
    "        y_6s_29e11.append(float(row[2]))\n",
    "        y_6s_58e11.append(float(row[3]))\n",
    "        y_6s_73e11.append(float(row[4]))\n",
    "        y_6s_11e12.append(float(row[5]))\n",
    "        y_6s_15e12.append(float(row[6]))"
   ]
  },
  {
   "cell_type": "code",
   "execution_count": 5,
   "metadata": {
    "collapsed": true
   },
   "outputs": [],
   "source": [
    "x_6s = []\n",
    "y_6s_73e11 = []\n",
    "y_6s_29e11 = []\n",
    "y_6s_15e11 = []\n",
    "y_6s_58e11 = []\n",
    "y_6s_11e12 = []\n",
    "y_6s_15e12 = []\n",
    "with open('G_time_6s_order.txt','r') as csvfile:\n",
    "    plots = csv.reader(csvfile, delimiter='\\t')\n",
    "    for row in plots:\n",
    "        x_6s.append(float(row[0]))\n",
    "        y_6s_73e11.append(float(row[1]))\n",
    "        y_6s_29e11.append(float(row[2]))\n",
    "        y_6s_15e11.append(float(row[3]))\n",
    "        y_6s_58e11.append(float(row[4]))\n",
    "        y_6s_11e12.append(float(row[5]))\n",
    "        y_6s_15e12.append(float(row[6]))"
   ]
  },
  {
   "cell_type": "code",
   "execution_count": 6,
   "metadata": {
    "collapsed": true
   },
   "outputs": [],
   "source": [
    "x_8s = []\n",
    "y_8s_29e11 = []\n",
    "y_8s_73e11 = []\n",
    "y_8s_15e11 = []\n",
    "y_8s_58e11 = []\n",
    "y_8s_11e12 = []\n",
    "y_8s_15e12 = []\n",
    "with open('G_time_8s.txt','r') as csvfile:\n",
    "    plots = csv.reader(csvfile, delimiter='\\t')\n",
    "    for row in plots:\n",
    "        x_8s.append(float(row[0]))\n",
    "        y_8s_29e11.append(float(row[1]))\n",
    "        y_8s_73e11.append(float(row[2]))\n",
    "        y_8s_15e11.append(float(row[3]))\n",
    "        y_8s_58e11.append(float(row[4]))\n",
    "        y_8s_11e12.append(float(row[5]))\n",
    "        y_8s_15e12.append(float(row[6]))"
   ]
  },
  {
   "cell_type": "code",
   "execution_count": 7,
   "metadata": {
    "collapsed": true
   },
   "outputs": [],
   "source": [
    "x_4s = []\n",
    "y_4s_15e11 = []\n",
    "y_4s_29e11 = []\n",
    "y_4s_58e11 = []\n",
    "y_4s_73e11 = []\n",
    "x_4s_11e12 = []\n",
    "y_4s_11e12 = []\n",
    "x_4s_15e12 = []\n",
    "y_4s_15e12 = []\n",
    "\n",
    "with open('G_time_4s_full_range.txt','r') as csvfile:\n",
    "    plots = csv.reader(csvfile, delimiter='\\t')\n",
    "    for row in plots:\n",
    "        x_4s.append(float(row[0]))\n",
    "        y_4s_15e11.append(float(row[1]))\n",
    "        y_4s_29e11.append(float(row[2]))\n",
    "        y_4s_58e11.append(float(row[3]))\n",
    "        y_4s_73e11.append(float(row[4]))\n",
    "        x_4s_11e12.append(float(row[5]))\n",
    "        y_4s_11e12.append(float(row[6]))\n",
    "        x_4s_15e12.append(float(row[7]))\n",
    "        y_4s_15e12.append(float(row[8]))\n",
    "      "
   ]
  },
  {
   "cell_type": "code",
   "execution_count": 8,
   "metadata": {
    "collapsed": true
   },
   "outputs": [],
   "source": [
    "Tmob0s = []\n",
    "mob0s = []\n",
    "\n",
    "with open('mob0s.txt','r') as csvfile:\n",
    "    plots = csv.reader(csvfile,delimiter = '\\t')\n",
    "    for row in plots:\n",
    "        Tmob0s.append(float(row[0]))\n",
    "        mob0s.append(float(row[1]))"
   ]
  },
  {
   "cell_type": "code",
   "execution_count": 9,
   "metadata": {
    "collapsed": true
   },
   "outputs": [],
   "source": [
    "Tmob = []\n",
    "mob4s = []\n",
    "\n",
    "with open('mob4s.txt','r') as csvfile:\n",
    "    plots = csv.reader(csvfile,delimiter = '\\t')\n",
    "    for row in plots:\n",
    "        Tmob.append(float(row[0]))\n",
    "        mob4s.append(float(row[1]))"
   ]
  },
  {
   "cell_type": "code",
   "execution_count": 10,
   "metadata": {
    "collapsed": true
   },
   "outputs": [],
   "source": [
    "Tmob6s = []\n",
    "mob6s = []\n",
    "\n",
    "with open('mob6s.txt','r') as csvfile:\n",
    "    plots = csv.reader(csvfile,delimiter = '\\t')\n",
    "    for row in plots:\n",
    "        Tmob6s.append(float(row[0]))\n",
    "        mob6s.append(float(row[1]))"
   ]
  },
  {
   "cell_type": "code",
   "execution_count": 11,
   "metadata": {},
   "outputs": [
    {
     "name": "stdout",
     "output_type": "stream",
     "text": [
      "[ -4.31667809e-05   2.65155261e-06]\n",
      "[ -1.71068528e-05   1.88838783e-07]\n",
      "[ -3.99114843e-08   2.53029279e-09]\n",
      "[ -1.29091256e-07   2.11940227e-09]\n"
     ]
    }
   ],
   "source": [
    "\n",
    "micro = 1000000\n",
    "nano = 1000000000\n",
    "\n",
    "proper0 = [x/micro for x in y_0s_15e11]\n",
    "p1 = np.polyfit(x_0s,proper0,1)\n",
    "print(p1)\n",
    "\n",
    "proper4 = [x/micro for x in y_4s_15e11]\n",
    "p1_4s = np.polyfit(x_4s,proper4,1)\n",
    "print(p1_4s)\n",
    "\n",
    "proper6 = [x/nano for x in y_6s_15e11]\n",
    "p1_6s = np.polyfit(x_6s,proper6,1)\n",
    "print(p1_6s)\n",
    "\n",
    "proper8 = [x/nano for x in y_8s_15e11]\n",
    "p1_8s = np.polyfit(x_8s,proper8,1)\n",
    "print(p1_8s)\n"
   ]
  },
  {
   "cell_type": "code",
   "execution_count": 18,
   "metadata": {},
   "outputs": [
    {
     "name": "stdout",
     "output_type": "stream",
     "text": [
      "-17.7194881635 -12.8409487408 0.260737802838\n",
      "-324.76172482 -14.5225727648 0.956684328036\n",
      "-31.2571504207 -19.7325931573 0.0792775443684\n",
      "-122.713440705 -19.7248838298 0.724673019625\n"
     ]
    }
   ],
   "source": [
    "from scipy.stats import *\n",
    "from scipy.interpolate import *\n",
    "\n",
    "# get slopes, intercepts and R^2 values of all the lines from the Arrhenius plots\n",
    "\n",
    "slope, intercept, r_value, p_value, std_err = linregress(x_0s, log_proper0)\n",
    "print(slope, intercept, pow(r_value,2))\n",
    "slope, intercept, r_value, p_value, std_err = linregress(x_4s, log_proper4)\n",
    "print(slope, intercept, pow(r_value,2))\n",
    "slope, intercept, r_value, p_value, std_err = linregress(x_6s, log_proper6)\n",
    "print(slope, intercept, pow(r_value,2))\n",
    "slope, intercept, r_value, p_value, std_err = linregress(x_8s, log_proper8)\n",
    "print(slope, intercept, pow(r_value,2))\n"
   ]
  },
  {
   "cell_type": "code",
   "execution_count": 17,
   "metadata": {},
   "outputs": [
    {
     "data": {
      "image/png": "[encoded data removed]",
      "text/plain": [
       "<matplotlib.figure.Figure at 0x193afd299e8>"
      ]
     },
     "metadata": {},
     "output_type": "display_data"
    }
   ],
   "source": [
    "fig = plt.figure(figsize=(5,7))\n",
    "fig.canvas.draw()\n",
    "sns.set_style('ticks')\n",
    "\n",
    "ax1 = fig.add_subplot(111)\n",
    "#0s set\n",
    "log_proper0 = np.log(proper0)\n",
    "ax1.plot(x_0s,log_proper0,'o',ms=8, color = 'g',  lw=2, alpha=0.7, mfc='g', dash_capstyle = 'butt', mew = '1', \n",
    "              label = '0 sec')\n",
    "log_p1_0s = np.polyfit(x_0s, log_proper0,1)\n",
    "ax1.plot(x_0s, np.polyval(log_p1_0s, x_0s), 'g-', lw = 2)\n",
    "\n",
    "#4s set\n",
    "log_proper4 = np.log(proper4)\n",
    "ax1.plot(x_4s,log_proper4,'s',ms=8, color = 'r',  lw=2, alpha=0.7, mfc='r', dash_capstyle = 'butt', mew = '1', \n",
    "              label = '4 sec')\n",
    "log_p1_4s = np.polyfit(x_4s, log_proper4,1)\n",
    "ax1.plot(x_4s, np.polyval(log_p1_4s, x_4s), 'r-', lw = 2)\n",
    "\n",
    "#6s set\n",
    "log_proper6 = np.log(proper6)\n",
    "ax1.plot(x_6s,log_proper6,'^',ms=8, color = 'blue',  lw=2, alpha=0.7, mfc='b', dash_capstyle = 'butt', mew = '1', \n",
    "              label = '6 sec')\n",
    "log_p1_6s = np.polyfit(x_6s, log_proper6,1)\n",
    "ax1.plot(x_6s, np.polyval(log_p1_6s, x_6s), 'b-', lw = 2)\n",
    "\n",
    "#8s set\n",
    "log_proper8 = np.log(proper8)\n",
    "ax1.plot(x_8s,log_proper8,'v',ms=8, color = 'black',  lw=2, alpha=0.7, mfc='black', dash_capstyle = 'butt', mew = '1', \n",
    "              label = '8 sec')\n",
    "log_p1_8s = np.polyfit(x_8s, log_proper8,1)\n",
    "ax1.plot(x_8s, np.polyval(log_p1_8s, x_8s), 'black', lw = 2)\n",
    "\n",
    "ax1.set_ylabel('Log(G)', fontsize = 14)\n",
    "ax1.set_xlabel('T$^{-1}$ (K$^{-1}$)', fontsize = 14)\n",
    "ax1.set_ylim([-24,-12])\n",
    "ax1.legend(loc='best', ncol = 2, fontsize=12)\n",
    "ax1.text(0.008, -15,r'$G = G_{0}exp(\\frac{-E_{A}}{kT})$', fontsize = 18)\n",
    "plt.savefig(\"conductance_fits.png\",bbox_inches='tight', dpi = 300)\n",
    "\n",
    "\n",
    "\n",
    "\n",
    "plt.show()"
   ]
  },
  {
   "cell_type": "code",
   "execution_count": null,
   "metadata": {},
   "outputs": [],
   "source": [
    "#handle data\n",
    "\n",
    "slopes = [-17.7194881635, -324.76172482, -31.2571504207, -122.713440705]\n",
    "intercepts = [-12.8409487408, -14.5225727648,  -19.7325931573,  -19.7248838298]\n",
    "k = -1.38e-23\n",
    "meV = 6.242e21\n",
    "Ea_in_J = [x*k for x in slopes]\n",
    "Ea_in_meV = [x*meV for x in Ea_in_J]\n",
    "t = [0,4, 6, 8]\n",
    "print(Ea_in_meV)\n",
    "\n",
    "slope, intercept, r_value, p_value, std_err = linregress(t, Ea_in_meV)\n",
    "print(slope, intercept, pow(r_value,2))\n",
    "\n",
    "Ea_fit = np.polyfit(t, Ea_in_meV,3)\n",
    "print(Ea_fit)\n",
    "\n",
    "smooth = linspace(0,8,50)\n",
    "\n",
    "#chart\n",
    "\n",
    "fig = plt.figure(figsize=(3.5,3.5))\n",
    "fig.canvas.draw()\n",
    "sns.set_style('ticks')\n",
    "\n",
    "ax1 = fig.add_subplot(111)\n",
    "ax1.plot(t,Ea_in_meV,'8',ms=10, color = 'brown',  lw=2, alpha=0.7, mfc='indigo', dash_capstyle = 'butt', mew = '1', \n",
    "              label = 'Activation energy')\n",
    "\n",
    "ax1.set_ylabel('$E_A$ (meV)', fontsize = 12)\n",
    "ax1.set_xlabel('Plasma exposure time (s)', fontsize = 12)\n",
    "ax1.set_xlim([-2,10])\n",
    "ax1.set_ylim([-5,35])\n",
    "#ax1.legend(loc='best', ncol = 2, fontsize=10)\n",
    "ax1.plot(smooth, np.polyval(Ea_fit, smooth), c= 'indigo',ls = ':', lw = 2)\n",
    "plt.savefig(\"arrhenius.png\",bbox_inches='tight', dpi = 300)\n",
    "\n",
    "\n",
    "plt.show()"
   ]
  },
  {
   "cell_type": "code",
   "execution_count": null,
   "metadata": {},
   "outputs": [],
   "source": [
    "#handle data\n",
    "\n",
    "#chart\n",
    "\n",
    "fig = plt.figure(figsize=(2,3.5))\n",
    "fig.canvas.draw()\n",
    "sns.set_style('ticks')\n",
    "\n",
    "ax1 = fig.add_subplot(111)\n",
    "ax1.bar(t,Ea_in_meV, color = 'orange')\n",
    "\n",
    "ax1.set_ylabel('$E_A$ (meV)', fontsize = 12)\n",
    "ax1.set_xlabel('Plasma exposure time (s)', fontsize = 12)\n",
    "ax1.set_xlim([-1,9])\n",
    "ax1.set_ylim([0,30])\n",
    "#ax1.legend(loc='best', ncol = 2, fontsize=10)\n",
    "\n",
    "plt.savefig(\"arrhenius_bars.png\",bbox_inches='tight', dpi = 300)\n",
    "\n",
    "\n",
    "plt.show()"
   ]
  },
  {
   "cell_type": "code",
   "execution_count": null,
   "metadata": {},
   "outputs": [],
   "source": [
    "print(proper4)"
   ]
  },
  {
   "cell_type": "code",
   "execution_count": null,
   "metadata": {
    "collapsed": true
   },
   "outputs": [],
   "source": [
    "gates = np.linspace(-60,60,240)\n",
    "L = 2.47\n",
    "W = 1\n",
    "C = 12.1/1000000000\n",
    "G = np.asarray(proper4)"
   ]
  },
  {
   "cell_type": "code",
   "execution_count": 21,
   "metadata": {},
   "outputs": [
    {
     "data": {
      "image/png": "[encoded data removed]",
      "text/plain": [
       "<matplotlib.figure.Figure at 0x193b038d518>"
      ]
     },
     "metadata": {},
     "output_type": "display_data"
    }
   ],
   "source": [
    "log_mob4s = np.log(mob4s)\n",
    "\n",
    "fig = plt.figure(figsize=(2,3.5))\n",
    "fig.canvas.draw()\n",
    "sns.set_style('ticks')\n",
    "\n",
    "ax1 = fig.add_subplot(111)\n",
    "plt.ticklabel_format(style='sci', axis='x')\n",
    "#ax1.plot(Tmob0s,mob0s, 'o',ms=10, color = 'brown',  lw=2, alpha=0.7, mfc='g', dash_capstyle = 'butt', mew = '1', \n",
    " #             label = '0 sec')\n",
    "ax1.plot(Tmob,mob4s, 's',ms=10, color = 'brown',  lw=2, alpha=0.7, mfc='r', dash_capstyle = 'butt', mew = '1', \n",
    "              label = '4 sec')\n",
    "#ax1.plot(Tmob6s,mob6s, '^',ms=10, color = 'brown',  lw=2, alpha=0.7, mfc='b', dash_capstyle = 'butt', mew = '1', \n",
    "             # label = '6 sec')\n",
    "\n",
    "ax1.set_ylabel('$\\mu_{fe}$ (cm$^2$ V$^{-1}$ s$^{-1}$)', fontsize = 12)\n",
    "ax1.set_xlabel('T (K)', fontsize = 12)\n",
    "ax1.set_xlim([70,300])\n",
    "ax1.set_ylim([1,30])\n",
    "plt.yscale('log')\n",
    "plt.xscale('log')\n",
    "ax1.legend(loc='upper left', ncol = 1, fontsize=10)\n",
    "\n",
    "plt.setp(ax1.get_xticklabels(), visible=True)\n",
    "plt.savefig(\"mobilities.png\",bbox_inches='tight', dpi = 300)\n",
    "\n",
    "\n",
    "plt.show()"
   ]
  },
  {
   "cell_type": "code",
   "execution_count": null,
   "metadata": {
    "collapsed": true
   },
   "outputs": [],
   "source": [
    "from scipy.optimize import curve_fit\n",
    "def func_powerlaw(x, m,  c0):\n",
    "    return c0 + x**m \n",
    "a = curve_fit(func_powerlaw, Tmob, mob4s, maxfev = 2000)"
   ]
  },
  {
   "cell_type": "code",
   "execution_count": null,
   "metadata": {},
   "outputs": [],
   "source": [
    "plt.scatter(Tmob, mob4s)\n",
    "plt.plot(Tmob,np.polyval(a,Tmob))"
   ]
  },
  {
   "cell_type": "code",
   "execution_count": null,
   "metadata": {
    "collapsed": true
   },
   "outputs": [],
   "source": []
  }
 ],
 "metadata": {
  "kernelspec": {
   "display_name": "Python 3",
   "language": "python",
   "name": "python3"
  },
  "language_info": {
   "codemirror_mode": {
    "name": "ipython",
    "version": 3
   },
   "file_extension": ".py",
   "mimetype": "text/x-python",
   "name": "python",
   "nbconvert_exporter": "python",
   "pygments_lexer": "ipython3",
   "version": "3.5.1"
  }
 },
 "nbformat": 4,
 "nbformat_minor": 1
}
