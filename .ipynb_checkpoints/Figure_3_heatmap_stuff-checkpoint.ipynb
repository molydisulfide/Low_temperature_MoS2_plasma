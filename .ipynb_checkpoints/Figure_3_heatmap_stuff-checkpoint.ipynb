{
 "cells": [
  {
   "cell_type": "code",
   "execution_count": 1,
   "metadata": {
    "collapsed": true
   },
   "outputs": [],
   "source": [
    "import numpy as np\n",
    "import matplotlib as mpl\n",
    "import matplotlib.pyplot as plt\n",
    "%matplotlib inline\n",
    "import scipy as sp\n",
    "import csv\n",
    "import matplotlib.patches as mpatches\n",
    "import pylab as pb\n",
    "import matplotlib.ticker as mtick\n",
    "from matplotlib import cm\n",
    "from numpy import linspace\n",
    "from csv import reader\n",
    "from matplotlib import pyplot\n",
    "import matplotlib.colors as colors\n",
    "import bokeh as bk\n",
    "import seaborn as sns\n",
    "import pandas as pd"
   ]
  },
  {
   "cell_type": "code",
   "execution_count": 19,
   "metadata": {
    "collapsed": false
   },
   "outputs": [
    {
     "data": {
      "image/png": "[encoded data removed]",
      "text/plain": [
       "<matplotlib.figure.Figure at 0x1a258853400>"
      ]
     },
     "metadata": {},
     "output_type": "display_data"
    }
   ],
   "source": [
    "import matplotlib.pyplot as plt\n",
    "import numpy as np\n",
    "\n",
    "#here's our data to plot, all normal Python lists\n",
    "time = [0, 4, 6, 8]\n",
    "n_2D = [1.5e11, 7.3e11, 1.1e12, 1.5e12]\n",
    "\n",
    "conductance = [\n",
    "[2.64715E-6,1.30973E-7,1.71E-9,1.4843E-9],\n",
    "[4.03157E-6,2.1743E-7,5.732E-9,3.6035E-9],\n",
    "[5.09757E-6,2.90808E-7,1.0507E-8,5.8634E-9],\n",
    "[6.41771E-6,3.90842E-7,1.8169E-8,1.77E-9]\n",
    "]\n",
    "\n",
    "#setup the 2D grid with Numpy\n",
    "time, n_2D = np.meshgrid(time, n_2D)\n",
    "\n",
    "#convert intensity (list of lists) to a numpy array for plotting\n",
    "conductance = np.array(conductance)\n",
    "\n",
    "plt.contourf(time, n_2D, conductance,5, cmap='coolwarm')\n",
    "plt.colorbar() #need a colorbar to show the intensity scale\n",
    "plt.show() #boom"
   ]
  },
  {
   "cell_type": "code",
   "execution_count": 6,
   "metadata": {
    "collapsed": false
   },
   "outputs": [
    {
     "data": {
      "text/plain": [
       "array([[  2.64715000e-06,   4.03157000e-06,   6.41771000e-06],\n",
       "       [  1.30973000e-07,   2.17430000e-07,   3.90842000e-07],\n",
       "       [  1.71000000e-09,   5.73200000e-09,   1.81690000e-08],\n",
       "       [  1.48430000e-09,   3.60350000e-09,   1.77000000e-09]])"
      ]
     },
     "execution_count": 6,
     "metadata": {},
     "output_type": "execute_result"
    }
   ],
   "source": [
    "conductance"
   ]
  },
  {
   "cell_type": "code",
   "execution_count": null,
   "metadata": {
    "collapsed": true
   },
   "outputs": [],
   "source": []
  }
 ],
 "metadata": {
  "kernelspec": {
   "display_name": "Python 3",
   "language": "python",
   "name": "python3"
  },
  "language_info": {
   "codemirror_mode": {
    "name": "ipython",
    "version": 3
   },
   "file_extension": ".py",
   "mimetype": "text/x-python",
   "name": "python",
   "nbconvert_exporter": "python",
   "pygments_lexer": "ipython3",
   "version": "3.5.1"
  }
 },
 "nbformat": 4,
 "nbformat_minor": 0
}
